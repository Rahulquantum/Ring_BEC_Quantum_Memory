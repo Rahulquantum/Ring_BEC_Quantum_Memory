{
 "cells": [
  {
   "cell_type": "markdown",
   "id": "bd0017e6-1cb9-43d0-a093-870892423342",
   "metadata": {},
   "source": [
    "# Bistability plot with atomic collisions included"
   ]
  },
  {
   "cell_type": "markdown",
   "id": "ff57c174-b5da-4b39-a447-c3501f1e51b9",
   "metadata": {},
   "source": [
    "# Parameters"
   ]
  },
  {
   "cell_type": "code",
   "execution_count": 1,
   "id": "99396781-39a9-4a27-b9bb-f24cadc1d1f6",
   "metadata": {
    "tags": []
   },
   "outputs": [
    {
     "name": "stdout",
     "output_type": "stream",
     "text": [
      "One dimensionality satisfied\n",
      "RHS is greater then LHS by, 11.816 times\n",
      "drive power =  8.584293215184512e-10\n",
      "eta_l and eta_p :  450.0547675537846 4.500547675537846\n",
      "omega_c =  172.268\n",
      "omega_d =  126.564\n",
      "omega_c-omega_d =  45.704\n",
      "g_prime/gamma_0 =  0.053\n",
      "number of thermal photons in atomic modes c and d:  2.963996425317431e-180 1.264118188079506e-132\n"
     ]
    }
   ],
   "source": [
    "%run ./parameters.ipynb"
   ]
  },
  {
   "cell_type": "markdown",
   "id": "b8428782-b696-41fc-9d1d-6230d0b45b2a",
   "metadata": {},
   "source": [
    "# Bistability equation"
   ]
  },
  {
   "cell_type": "markdown",
   "id": "952841a7-c003-484f-b589-c122019718f8",
   "metadata": {
    "jp-MarkdownHeadingCollapsed": true
   },
   "source": [
    "The cubic equation in terms of $N_0$ is:\n",
    "\n",
    "$$\n",
    "G^4 \\Omega^2 N_0^3  + 2 G^2 \\tilde{\\Delta }\\Omega N_0^2 + \\left(\\tilde{\\Delta\n",
    "\t}^2+\\frac{\\kappa ^2}{4}\\right)N_0  - |\\varepsilon_l|^2 = 0\\quad\\left(\\varepsilon_l = \\sqrt{\\frac{\\mu\\kappa \\mathcal{P}_l}{\\hbar\\omega_l}}\\;\\left[T^{-1}\\right],\\; \\Omega = \\frac{\\omega_d + \\omega_c + 4\\tilde{g}N}{(\\omega_d + 4\\tilde{g}N)(\\omega_c + 4\\tilde{g}N) - 4\\tilde{g}^2 N^2}\\; \\left[T\\right] \\right)\n",
    "$$\n",
    "\n",
    "here, $\\Omega$ has dimension of time, $\\left[T\\right]$, $N_0 = |\\alpha|^2$. The coefficients of $N_0 = |\\alpha|^2$ are,\n",
    "\n",
    "$$\n",
    "\\begin{align}\n",
    "a &= G^4 \\Omega^2 \\\\\n",
    "%\n",
    "b &= 2 G^2 \\tilde{\\Delta }\\Omega\\\\\n",
    "%\n",
    "c &= \\left(\\tilde{\\Delta}^2+\\frac{\\kappa ^2}{4}\\right)\\\\\n",
    "%\n",
    "d & = - |\\varepsilon_l|^2\n",
    "\\end{align}\n",
    "$$\n",
    "\n",
    "Here, $\\varepsilon_l$ has dimension of $\\left[T^{-1}\\right]$ and\n",
    "\n",
    "$$\n",
    "\\begin{align}\n",
    "\\tilde{\\Delta} &= \\Delta_0 - U_0\\frac{N}{2},\\quad\\left(\\Delta_0 = \\omega_l - \\omega_0\\right)\\\\\n",
    "%\n",
    "U_0 &= \\frac{g^2_a}{\\Delta_a}\n",
    "%\n",
    "\\end{align}\n",
    "$$\n",
    "\n",
    "Where, $\\Delta_a$ is the detuning of the optical frequency from the atomic transition, $g_a$ is the strength of the interaction between one photon an one atom, $N$ is the number of atoms\n",
    "\n",
    "#### Critical detuning\n",
    "$$\n",
    "\\tilde{\\Delta} = -\\frac{\\sqrt{3}\\kappa}{2}\n",
    "$$\n",
    "\n",
    "#### Critical power\n",
    "$$\n",
    "\\mathcal{P}_{\\text{cr}} = \\frac{\\hbar\\omega_l\\kappa^2}{3\\sqrt{3}G^2\\Omega\\mu}\n",
    "$$\n",
    "\n",
    "# Be careful ! \n",
    "#### when normalizing the bistability equation w.r.t $\\omega_c$, the bistability equation will look like:\n",
    "\n",
    "$$\n",
    "G^4 \\bar{\\Omega}_1^2 N_0^3  +2 G^2 \\tilde{\\Delta}\\bar{\\Omega}_1 N_0^2 + \\left(\\tilde{\\Delta\n",
    "\t}^2+\\frac{\\kappa^2}{4}\\right)N_0  - |\\varepsilon_l|^2 = 0 \\quad\\left(\\bar{\\Omega}_1 = \\frac{1+\\omega_d + 4\\tilde{g}N}{\\left(\\omega_d + 4\\tilde{g}N\\right)\\left(1 + 4\\tilde{g}N\\right) - 4\\tilde{g}^2 N^2}\\right)\n",
    "$$\n",
    "\n",
    "Here, everything is normalized w.r.t $\\omega_c$\n",
    "\n",
    "#### Also be careful when normalizing $\\varepsilon$\n",
    "$\\varepsilon$ has the dimension $s^{-1}$ so it needs normalization as well\n",
    "\n",
    "#### When normalized w.r.t $\\kappa$ the bistability equation will look like:\n",
    "$$\n",
    "G^4 \\bar{\\Omega}_2^2 N_0^3  +2 G^2 \\tilde{\\Delta}\\bar{\\Omega}_2 N_0^2 + \\left(\\tilde{\\Delta\n",
    "\t}^2+\\frac{1}{4}\\right)N_0  - |\\varepsilon_l|^2 = 0 \\quad\\left(\\bar{\\Omega}_2 = \\frac{\\omega_d + \\omega_c + 4\\tilde{g}N}{(\\omega_d + 4\\tilde{g}N)(\\omega_c + 4\\tilde{g}N) - 4\\tilde{g}^2 N^2}\\right)\n",
    "$$\n",
    "\n",
    "where, everything is normalized w.r.t $\\kappa$\n"
   ]
  },
  {
   "cell_type": "markdown",
   "id": "76d54eae-b012-44c7-8c01-7598cc4bf96b",
   "metadata": {},
   "source": [
    "# Main code"
   ]
  },
  {
   "cell_type": "markdown",
   "id": "98d18dfe-2dea-4fce-9cad-b601c504e30e",
   "metadata": {},
   "source": [
    "#### Function defintions"
   ]
  },
  {
   "cell_type": "code",
   "execution_count": 2,
   "id": "33813379-5e96-4519-a383-ada875039d07",
   "metadata": {},
   "outputs": [],
   "source": [
    "# function that finds the real roots and returns the largest real root\n",
    "def find_real_root(G, Delta, eps_l):\n",
    "    global capital_omega_bar, kappa\n",
    "    \n",
    "    a = G**4*capital_omega_bar**2\n",
    "    b = 2*G**2*Delta*capital_omega_bar\n",
    "    c = Delta**2 + (kappa**2)/4\n",
    "    d = -np.abs(eps_l)**2\n",
    "\n",
    "    # Create a list of coefficients for numpy.roots()\n",
    "    coefficients = [a, b, c, d]\n",
    "\n",
    "    # Calculate all roots\n",
    "    roots = np.roots(coefficients)\n",
    "\n",
    "    # Filter for real roots\n",
    "    real_roots = [root.real for root in roots if np.isclose(root.imag, 0)]\n",
    "\n",
    "    return np.array(real_roots).min()"
   ]
  },
  {
   "cell_type": "code",
   "execution_count": 3,
   "id": "7975633e-42be-45fd-a1f9-a0d9f7856bcc",
   "metadata": {},
   "outputs": [],
   "source": [
    "# Define an array to store the detuning values\n",
    "detuning_range = (2*delta_tilde, -2*delta_tilde)\n",
    "\n",
    "n_d = 1000        # number of points along detuning axis\n",
    "\n",
    "detuning = np.linspace(detuning_range[0], detuning_range[1], n_d)\n",
    "\n",
    "step_size = np.abs((detuning_range[0]-detuning_range[1])/n_d)"
   ]
  },
  {
   "cell_type": "code",
   "execution_count": 4,
   "id": "19efac00-f6f3-4271-adfb-9b6c44879656",
   "metadata": {},
   "outputs": [],
   "source": [
    "# define a list to store the roots of the cubic polynomial\n",
    "cubic_roots = [[0]*3 for i in range(n_d)]\n",
    "\n",
    "# the lits cubic_roots is define in this manner: [[0,0,0], [0,0,0], ......, [0,0,0]] each of those, [0,0,0] arrays correspond to the values of cube root at a particular detuning.\n",
    "\n",
    "for index, item in enumerate(detuning):\n",
    "    \n",
    "    delta = item\n",
    "\n",
    "    a3 = G**4*capital_omega_bar**2\n",
    "    a2 = 2*G**2*delta*capital_omega_bar\n",
    "\n",
    "    \n",
    "    a1 = kappa**2/4 + delta**2\n",
    "    \n",
    "    a0 = -np.abs(eta_l)**2\n",
    "    \n",
    "    coeff = [a3, a2, a1, a0]\n",
    "    \n",
    "    cubic_roots[index] = np.roots(coeff)       # Note: the function np.roots takes the coefficents in descending order of power and returns value of the three roots."
   ]
  },
  {
   "cell_type": "markdown",
   "id": "c92adf05-25f2-40c3-8bde-a3e4cf01b218",
   "metadata": {},
   "source": [
    "# Collect only the real roots"
   ]
  },
  {
   "cell_type": "code",
   "execution_count": 5,
   "id": "959612e2-19a9-4e50-84e0-98d1b0403d83",
   "metadata": {},
   "outputs": [],
   "source": [
    "real_roots = [[0]*3 for i in range(n_d)]       # define a list to collect the roots that are real.\n",
    "\n",
    "for index, roots in enumerate(cubic_roots):\n",
    "    if roots[0].imag == 0.0:\n",
    "        real_roots[index][0] = roots[0].real\n",
    "    if roots[1].imag == 0.0:\n",
    "        real_roots[index][1] = roots[1].real\n",
    "    if roots[2].imag == 0.0:\n",
    "        real_roots[index][2] = roots[2].real\n",
    "\n",
    "# for example, if the first root is real and the other two are complex, then at that particular detuning, real_roots will be [value, 0,0]"
   ]
  },
  {
   "cell_type": "code",
   "execution_count": 6,
   "id": "9dd98149-e6c8-4a66-9a26-5f4ebb2b081f",
   "metadata": {},
   "outputs": [],
   "source": [
    "# define arrays to store all three roots seperately for all value of detuning\n",
    "third_root = [0 for i in range(n_d)]      \n",
    "second_root = [0 for i in range(n_d)]\n",
    "first_root = [0 for i in range(n_d)]\n",
    "\n",
    "for index, roots in enumerate(real_roots):\n",
    "    third_root[index] = roots[2]\n",
    "    second_root[index] = roots[1]\n",
    "    first_root[index] = roots[0]"
   ]
  },
  {
   "cell_type": "markdown",
   "id": "43d74a8c-7815-48d1-9264-8f398659dbfa",
   "metadata": {},
   "source": [
    "# Convert the lists to arrays"
   ]
  },
  {
   "cell_type": "code",
   "execution_count": 7,
   "id": "bcb99583-e5ec-483c-9469-37c815edec91",
   "metadata": {},
   "outputs": [],
   "source": [
    "third_root = np.array(third_root).astype(np.float32)\n",
    "second_root = np.array(second_root).astype(np.float32)\n",
    "first_root = np.array(first_root).astype(np.float32)"
   ]
  },
  {
   "cell_type": "markdown",
   "id": "519d9e4d-85e8-40a7-a5c0-d2898d1ba895",
   "metadata": {},
   "source": [
    "The reason for converting the the above arrays to float is because we want to replace the elements with value 0 by nan. And its not allowed to convert integer zero to nan"
   ]
  },
  {
   "cell_type": "markdown",
   "id": "8cddbb16-1350-4e75-a61c-2defc8758fe0",
   "metadata": {},
   "source": [
    "# Remove datapoints which are zero"
   ]
  },
  {
   "cell_type": "code",
   "execution_count": 8,
   "id": "60a3aee2-8f90-439a-b136-59adeb54176e",
   "metadata": {},
   "outputs": [],
   "source": [
    "# we don't want to plot the datapoints which are zero, therefore we will replace any zero with \"nan\" (not a number)\n",
    "y1 = first_root.copy()\n",
    "y1[first_root == 0.0] = np.nan      # replacing the points which are zero with nan\n",
    "y2 = second_root.copy()\n",
    "y2[second_root == 0.0] = np.nan     # replacing the points which are zero with nan\n",
    "y3 = third_root.copy()\n",
    "y3[third_root == 0.0] = np.nan      # replacing the points which are zero with nan"
   ]
  },
  {
   "cell_type": "markdown",
   "id": "40b21657-5d0e-4752-adce-378d40fa9bae",
   "metadata": {},
   "source": [
    "# Plotting"
   ]
  },
  {
   "cell_type": "code",
   "execution_count": 9,
   "id": "54f59ade-ee4c-4ac0-80da-e0e3bd656eea",
   "metadata": {},
   "outputs": [],
   "source": [
    "import matplotlib.pyplot as plt\n",
    "plt.rcParams['text.usetex'] = True    # command for using LateX text in figures"
   ]
  },
  {
   "cell_type": "code",
   "execution_count": 10,
   "id": "6433b926-0c2d-459e-9b9e-d41ac328568d",
   "metadata": {
    "tags": []
   },
   "outputs": [
    {
     "data": {
      "image/png": "[encoded data removed]",
      "text/plain": [
       "<Figure size 640x480 with 1 Axes>"
      ]
     },
     "metadata": {},
     "output_type": "display_data"
    }
   ],
   "source": [
    "plt.plot(detuning, y1, 'r-.')\n",
    "plt.plot(detuning, y2, 'g--')\n",
    "plt.plot(detuning, y3, 'b-')\n",
    "\n",
    "# Legends\n",
    "plt.legend([r'$1^{st}$ root', r'$2^{nd}$ root', r'$3^{rd}$ root'], loc=\"upper right\", fontsize = 14)\n",
    "\n",
    "# axis labels\n",
    "plt.xlabel(r'$\\tilde{\\Delta}/\\kappa$',  fontsize = 15)\n",
    "plt.ylabel(r'$\\bar{n}_{photon} = |\\alpha|^2$',  fontsize = 15)\n",
    "\n",
    "\n",
    "#######################################################\n",
    "#          Vertical lines\n",
    "#######################################################\n",
    "# Plot a vertical line at detuning = omega_c\n",
    "plt.axvline(x=-small_delta, color='blue', linestyle=':', linewidth = 0.8)\n",
    "\n",
    "\n",
    "######################################################\n",
    "#          Horizontal lines\n",
    "######################################################\n",
    "y_coordinate = find_real_root(G, delta_tilde, eta_l)      # this is the theoretical value of the photon number at the desired detuning\n",
    "\n",
    "# Plot a horizonal line through the intersection point of x= -small_delta and the plot\n",
    "plt.axhline(y=y_coordinate, color='blue', linestyle=':', linewidth = 0.8)\n",
    "\n",
    "plt.axhline(0, color='gray', linewidth=0.8, linestyle='--')\n",
    "\n",
    "######################################################\n",
    "#          Texts on the plot\n",
    "######################################################\n",
    "\n",
    "# Add text at x = - omega_c\n",
    "y_min, y_max = plt.ylim()  # Get the limits of the y-axis\n",
    "y_center = (y_min + y_max)/ 2  # Calculate the center of the y-axis\n",
    "\n",
    "plt.text(-small_delta - 20*step_size, y_center, r'$\\tilde{\\Delta} = -\\delta$', rotation=90, color='b', fontsize = '12')\n",
    "\n",
    "plt.text(-small_delta + 10*step_size, y_coordinate + 1e-1/4, r'$|\\alpha|^2 = $ %f' %y_coordinate, rotation=0, color='b', fontsize = '12')\n",
    "\n",
    "# plt.ticklabel_format(style='sci', axis='x', scilimits=(0,0))\n",
    "plt.ticklabel_format(style='sci', axis='y', scilimits=(0,0))\n",
    "plt.ticklabel_format(style='sci', axis='x', scilimits=(0,0))\n",
    "\n",
    "# axis ticks\n",
    "plt.xticks(fontsize = 15)\n",
    "plt.yticks(fontsize = 15) \n",
    "\n",
    "\n",
    "plt.show()\n"
   ]
  },
  {
   "cell_type": "markdown",
   "id": "9917542e-3094-4a8c-926b-00f538f56fbd",
   "metadata": {},
   "source": [
    "#### Find the value of the photon number, $\\bar{n}_{photon} = |\\alpha|^2$ at a particular detuning.\n",
    "From the value of $|\\alpha|^2$ we can calculate,\n",
    "\n",
    "$$\n",
    "Q_{c(d)s}=  -G\\frac{|\\alpha|^2}{\\omega_{c(d)}} = -G\\frac{\\bar{n}_{photon}}{\\omega_{c(d)}}\n",
    "$$"
   ]
  },
  {
   "cell_type": "code",
   "execution_count": 11,
   "id": "46690a89-a2ee-49bc-93a5-a8b163b3d561",
   "metadata": {},
   "outputs": [
    {
     "name": "stdout",
     "output_type": "stream",
     "text": [
      "photon number at (delta_tilde = -small_delta) is 6.866789\n"
     ]
    }
   ],
   "source": [
    "# What is the detuning at which you want to find the photon number\n",
    "x = -small_delta\n",
    "index = np.where((detuning > x- step_size/2) & (detuning < x + step_size/2)) # the \"where\" function gives the corresponding index in the detuning array\n",
    "\n",
    "# store the value of the first, second, and third roots into some variables at that value of detuning\n",
    "a = y1[index]\n",
    "b = y2[index]\n",
    "c = y3[index]\n",
    "\n",
    "temp_array = np.array([a, b, c])\n",
    "#print(y1[index], y2[index], y3[index])\n",
    "\n",
    "# Collect elements that are not NaN\n",
    "non_nan_elements = temp_array[~np.isnan(temp_array)].min()   # retuns the non-nan elements. If there are multiple non-nan elements, it returns the min value.\n",
    "\n",
    "sorted_array = np.sort(temp_array)\n",
    "\n",
    "\n",
    "photon_number  = non_nan_elements\n",
    "\n",
    "print(\"photon number at (delta_tilde = -small_delta) is\", photon_number)\n"
   ]
  },
  {
   "cell_type": "markdown",
   "id": "3c691e06-273d-4adb-a8d1-19473dab2ced",
   "metadata": {},
   "source": [
    "#### Verify whether the above value matches with the formula"
   ]
  },
  {
   "cell_type": "code",
   "execution_count": 12,
   "id": "c4baa54e-b2b4-4eef-9dce-227e15c2bade",
   "metadata": {},
   "outputs": [],
   "source": [
    "# calculate alpha_s    \n",
    "denominator = (omega_c + 4*g_tilde*Na)*(omega_d + 4*g_tilde*Na) - 4*g_tilde**2*Na**2\n",
    "Q_cs = -G*photon_number*(omega_d + 2*g_tilde*Na)/denominator\n",
    "Q_ds = -G*photon_number*(omega_c + 2*g_tilde*Na)/denominator\n",
    "alpha_s = eta_l/(1j*(G*(Q_cs + Q_ds) - delta_tilde) + kappa/2)"
   ]
  },
  {
   "cell_type": "code",
   "execution_count": 13,
   "id": "ae92078c-31fe-464c-83fe-6a43409a9153",
   "metadata": {},
   "outputs": [
    {
     "name": "stdout",
     "output_type": "stream",
     "text": [
      "Q_cs = -0.08776534651866302 and Q_ds = -0.1194450030196379\n",
      "|alpha_s|^2 (photon number) =  6.853\n"
     ]
    }
   ],
   "source": [
    "print(\"Q_cs =\", Q_cs, \"and Q_ds =\", Q_ds)\n",
    "# print(\"alpha_s = \", alpha_s)\n",
    "print(\"|alpha_s|^2 (photon number) = \", np.round(np.abs(alpha_s)**2, 3))"
   ]
  },
  {
   "cell_type": "markdown",
   "id": "7c3b478c-fe6c-4f89-92ec-597c69a375e3",
   "metadata": {},
   "source": [
    "#### Value of $|\\tilde{G}| = \\frac{G|\\alpha|}{\\sqrt{2}}$"
   ]
  },
  {
   "cell_type": "code",
   "execution_count": 14,
   "id": "6cc1bfda-fb80-4fb5-b2cc-cd6322af8e16",
   "metadata": {
    "tags": []
   },
   "outputs": [
    {
     "name": "stdout",
     "output_type": "stream",
     "text": [
      "G_tilde =  4.08\n"
     ]
    }
   ],
   "source": [
    "G_tilde_val = alpha_s*G/np.sqrt(2)\n",
    "print(\"G_tilde = \",np.round(np.abs(G_tilde_val),3))"
   ]
  },
  {
   "cell_type": "markdown",
   "id": "3ccae8a9-eb5d-4315-9a83-43b4dd83ca3b",
   "metadata": {},
   "source": [
    "#### Verification of the relation\n",
    "\n",
    "$$\n",
    "\\hbar U_0|\\alpha|^2 <<\\frac{\\hbar^2 L_p^2}{2mR^2} + 2\\hbar\\tilde{g}N\n",
    "$$"
   ]
  },
  {
   "cell_type": "code",
   "execution_count": 15,
   "id": "5c946ba7-09b9-43b1-aeb3-b821d7ad5ed5",
   "metadata": {
    "tags": []
   },
   "outputs": [
    {
     "name": "stdout",
     "output_type": "stream",
     "text": [
      "Criterion satisfied\n",
      "ratio of RHS by LHS:  3.086464385691955\n",
      "LHS 1898.0997665922864\n",
      "K.E 5522.4173300773045\n",
      "Coll 336.0000000000001\n"
     ]
    }
   ],
   "source": [
    "LHS = hbar*U_0*np.abs(alpha_s)**2\n",
    "\n",
    "RHS = (hbar*Lp)**2/(2*mass*Radius**2) + 2*hbar*g_tilde_0*Na\n",
    "\n",
    "if LHS < RHS:\n",
    "    print(\"Criterion satisfied\")\n",
    "    criterion = 1\n",
    "else:\n",
    "    print(\"criterion not satisfied\")\n",
    "    criterion = 0\n",
    "\n",
    "print(\"ratio of RHS by LHS: \",RHS/LHS)\n",
    "\n",
    "print(\"LHS\", LHS/hbar)\n",
    "print(\"K.E\", hbar*Lp**2/(2*mass*Radius**2))\n",
    "print(\"Coll\", 2*g_tilde_0*Na)"
   ]
  },
  {
   "cell_type": "markdown",
   "id": "7cf43a33-e2f2-49de-97b5-c41959f7d4d1",
   "metadata": {},
   "source": [
    "#### Scattering rate"
   ]
  },
  {
   "cell_type": "code",
   "execution_count": 16,
   "id": "cb44c865-419a-43e7-940d-43c656bc9442",
   "metadata": {},
   "outputs": [
    {
     "name": "stdout",
     "output_type": "stream",
     "text": [
      "scattering rate less than 1\n",
      "scattering rate 5.768559671149552e-06\n"
     ]
    }
   ],
   "source": [
    "intracavity_photon_number = np.abs(alpha_s)**2\n",
    "\n",
    "photon_lifetime_inside_cavity = 1/kappa_0\n",
    "\n",
    "\n",
    "intracavity_power = hbar*omega_l0/photon_lifetime_inside_cavity\n",
    "#intracavity_power = power_l\n",
    "\n",
    "area_of_cross_section = pi*Radius**2\n",
    "\n",
    "intracavity_intensity = intracavity_power/area_of_cross_section\n",
    "\n",
    "scattering_rate = (gamma_a**3/(8*delta_a**2))*(intracavity_intensity/I_sat)\n",
    "\n",
    "if scattering_rate<1:\n",
    "    print('scattering rate less than 1')\n",
    "    scattering_parameter = 1\n",
    "else:\n",
    "    print('scattering rate greater than 1')\n",
    "    scattering_parameter = 0\n",
    "\n",
    "print(\"scattering rate\",scattering_rate)"
   ]
  },
  {
   "cell_type": "markdown",
   "id": "33d5e4cd-8736-4576-a4c0-1bdddbc6b566",
   "metadata": {},
   "source": [
    "#### Stability test"
   ]
  },
  {
   "cell_type": "code",
   "execution_count": 17,
   "id": "d68e4e7c-d81b-4700-b3b4-412d27f0d015",
   "metadata": {},
   "outputs": [
    {
     "name": "stdout",
     "output_type": "stream",
     "text": [
      "Real part of the eigenvalues of the Jacobian matrix are: [-0.24721298 -0.24708444 -0.00562817 -0.2446426  -0.24980958 -0.00563889]\n",
      "Eigen values with positive real part []\n",
      "The system is stable.\n"
     ]
    }
   ],
   "source": [
    "import numpy as np\n",
    "import scipy.linalg as la\n",
    "\n",
    "# Construct the Jacobian matrix J\n",
    "Jacobian = np.array([\n",
    "[-kappa / 2, G * (Q_cs + Q_ds) - delta_tilde, 1j * G * (np.conj(alpha_s) - alpha_s), 0, 1j * G * (np.conj(alpha_s) - alpha_s), 0],\n",
    "[- (G * (Q_cs + Q_ds) - delta_tilde), -kappa / 2, -G * (np.conj(alpha_s) + alpha_s), 0, -G * (np.conj(alpha_s) + alpha_s), 0],\n",
    "[0, 0, 0, omega_c + 4 * g_tilde * Na, 0, -2 * g_tilde * Na],\n",
    "[-G*(alpha_s + np.conj(alpha_s))/np.sqrt(2) , -1j*G*(np.conj(alpha_s) - alpha_s/np.sqrt(2)), -(omega_c + 4 * g_tilde * Na), -gamma_m / 2, -2 * g_tilde * Na, 0],\n",
    "[0, 0, 0, -2 * g_tilde * Na, 0, omega_d + 4 * g_tilde * Na],\n",
    "[-G*(alpha_s + np.conj(alpha_s))/ np.sqrt(2), -1j*G* (np.conj(alpha_s) - alpha_s)/ np.sqrt(2) , -2 * g_tilde * Na, 0, -(omega_d + 4 * g_tilde * Na), -gamma_m / 2]\n",
    "], dtype=np.complex128)\n",
    "\n",
    "# Calculate the eigenvalues of the Jacobian matrix\n",
    "eigenvalues_of_Jacobian = la.eigvals(Jacobian)\n",
    "\n",
    "# Check stability: if all real parts of the eigenvalues are negative, the system is stable\n",
    "stability = np.all(np.real(eigenvalues_of_Jacobian ) < 0)\n",
    "\n",
    "#Print the eigenvalues\n",
    "print(\"Real part of the eigenvalues of the Jacobian matrix are:\", np.real(eigenvalues_of_Jacobian))\n",
    "\n",
    "#print the real parts of the eigen values with positive real part\n",
    "print(\"Eigen values with positive real part\", np.real(eigenvalues_of_Jacobian[np.real(eigenvalues_of_Jacobian)>0]))\n",
    "\n",
    "if stability:\n",
    "    print(\"The system is stable.\")\n",
    "else:\n",
    "    print(\"The system is unstable.\")\n"
   ]
  },
  {
   "cell_type": "code",
   "execution_count": null,
   "id": "2b183c75-3715-46d6-bf27-b906a0af3cea",
   "metadata": {},
   "outputs": [],
   "source": []
  }
 ],
 "metadata": {
  "kernelspec": {
   "display_name": "Python 3 (ipykernel)",
   "language": "python",
   "name": "python3"
  },
  "language_info": {
   "codemirror_mode": {
    "name": "ipython",
    "version": 3
   },
   "file_extension": ".py",
   "mimetype": "text/x-python",
   "name": "python",
   "nbconvert_exporter": "python",
   "pygments_lexer": "ipython3",
   "version": "3.9.21"
  }
 },
 "nbformat": 4,
 "nbformat_minor": 5
}
