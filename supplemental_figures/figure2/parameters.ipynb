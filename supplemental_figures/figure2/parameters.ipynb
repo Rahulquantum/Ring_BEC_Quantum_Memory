{
 "cells": [
  {
   "cell_type": "markdown",
   "metadata": {},
   "source": [
    "# Libraries"
   ]
  },
  {
   "cell_type": "code",
   "execution_count": 1,
   "metadata": {},
   "outputs": [],
   "source": [
    "import numpy as np\n",
    "import scipy.constants as sc # this gives all constants in SI units"
   ]
  },
  {
   "cell_type": "markdown",
   "metadata": {},
   "source": [
    "#  Constants"
   ]
  },
  {
   "cell_type": "code",
   "execution_count": 2,
   "metadata": {},
   "outputs": [],
   "source": [
    "iota = complex(0,1)\n",
    "pi = sc.pi\n",
    "hbar = sc.hbar\n",
    "speed_of_light = sc.c\n",
    "amu = sc.atomic_mass\n",
    "micro_meters = sc.micro\n",
    "nano_kelvin = sc.nano\n",
    "kilohertz   = sc.kilo"
   ]
  },
  {
   "cell_type": "markdown",
   "metadata": {},
   "source": [
    "# Main parameters"
   ]
  },
  {
   "cell_type": "markdown",
   "metadata": {},
   "source": [
    "#### Number of atoms\n",
    "$N = 2\\times10^4$,\n",
    "\n",
    "#### Angular momentum numbers\n",
    "$L_p = 20$, $l = 130$\n",
    "\n",
    "#### Decay rates\n",
    "Damping rate of each condensate, $\\gamma_m \\sim 2\\pi\\times0.0167$ Hz, Cavity decay rate, $\\gamma_0 = 2\\pi\\times 1$ KHz, \n",
    "\n",
    "#### Radius of toroidal trap\n",
    "$R = 10$ $\\mu$m,\n",
    "\n",
    "#### Mass of each atom\n",
    "$m = 23$ amu, $(1\\text{ amu } = 1.66054\\times10^{-27}$ Kg) \n",
    "\n",
    "\n",
    "#### Harmonic trapping frequencies\n",
    "$\\omega_\\rho =\\omega_z= 2\\pi\\times 840$ Hz\n",
    "\n",
    "#### Detunings\n",
    "Decay rate of the sodium D line, $\\gamma_a/2\\pi \\approx 9.8$ MHz,  detuning of optical frequency from the atomic transition, $\\Delta_a/2\\pi = 400\\times \\gamma_a$\n",
    "\n",
    "The drive laser is Blue detuned far from the ground-to-excited state atomic transition and therefore, interaction between drive laser and atoms is weak.\n",
    "\n",
    "#### Other parameters\n",
    "$g_a = 2\\pi\\times 0.36$ MHz\n"
   ]
  },
  {
   "cell_type": "markdown",
   "metadata": {},
   "source": [
    "#### Field amplitude\n",
    "$\\varepsilon_{p(l)} = \\sqrt{\\frac{\\mu\\kappa\\mathcal{P}}{\\hbar \\omega_{p(l)}}}$\n",
    "\n",
    "#### Linearity condition\n",
    "$$\n",
    "\\hbar U_0|\\alpha_s|^2 <<\\frac{\\hbar^2 L_p^2}{2mR^2} + 2\\hbar\\tilde{g}N\n",
    "$$"
   ]
  },
  {
   "cell_type": "markdown",
   "metadata": {},
   "source": [
    "# All parameters (SI)"
   ]
  },
  {
   "cell_type": "markdown",
   "metadata": {},
   "source": [
    "####  Toroidal trapping potential parameters"
   ]
  },
  {
   "cell_type": "code",
   "execution_count": 3,
   "metadata": {},
   "outputs": [],
   "source": [
    "# Radius of Toroidal trap\n",
    "Radius = 10*sc.micro          # micrometers in terms of meters\n",
    "\n",
    "# Frequencies related to the trapping potential in Hz\n",
    "omega_rho_0 = 2*pi*840\n",
    "omega_z_0   = omega_rho_0\n"
   ]
  },
  {
   "cell_type": "markdown",
   "metadata": {},
   "source": [
    "#### Ring BEC parameters"
   ]
  },
  {
   "cell_type": "code",
   "execution_count": 4,
   "metadata": {},
   "outputs": [],
   "source": [
    "# Mass of atom\n",
    "mass = 23*amu\n",
    "\n",
    "#\n",
    "a_Na = 0.1*sc.nano\n",
    "\n",
    "# Moment of inertia of the rotating superfluid\n",
    "moment_of_inertia = mass*Radius**2\n",
    "\n",
    "# Number of atoms in the BEC\n",
    "Na = 2e4\n",
    "\n",
    "# atom-field coupling strength\n",
    "g_a = 2*pi*0.36*sc.mega\n",
    "\n",
    "# decay rate of the sodium D line\n",
    "gamma_a = 2*pi*9.8*sc.mega\n",
    "\n",
    "# saturation intensity \n",
    "I_sat = 10e-3/(1e-2)**2      # watts per meter square\n",
    "\n",
    "# matter wave mode decay rate\n",
    "gamma_m_0 = 2*pi*(1/60)     # life time of the BEC is taken to be 60 seconds\n",
    "\n",
    "# Winding number of the BEC wavefunction\n",
    "Lp = 20\n",
    "\n",
    "# detuning of the drive field from the resonance of atomic transition\n",
    "delta_a = 300*gamma_a\n"
   ]
  },
  {
   "cell_type": "markdown",
   "metadata": {},
   "source": [
    "#### One dimentionality condition\n",
    "\n",
    "$$\n",
    "N<\\frac{4\\sqrt{\\pi}R}{3a_{Na}}\\left(\\frac{\\omega_\\rho}{\\omega_z}\\right)^{\\frac{1}{2}}\n",
    "$$"
   ]
  },
  {
   "cell_type": "code",
   "execution_count": 5,
   "metadata": {},
   "outputs": [
    {
     "name": "stdout",
     "output_type": "stream",
     "text": [
      "One dimensionality satisfied\n",
      "RHS is greater then LHS by, 11.816 times\n"
     ]
    }
   ],
   "source": [
    "RHS = (4*np.sqrt(pi)*Radius/(3*a_Na))*np.sqrt(omega_rho_0/omega_z_0)\n",
    "\n",
    "if RHS/Na >1:\n",
    "    print(\"One dimensionality satisfied\")\n",
    "else:\n",
    "    print(\"One dimensionality not satisfied\")\n",
    "\n",
    "print(\"RHS is greater then LHS by,\", np.round(RHS/Na, 3), \"times\")"
   ]
  },
  {
   "cell_type": "markdown",
   "metadata": {},
   "source": [
    "#### Fabri Perot cavity parameters"
   ]
  },
  {
   "cell_type": "code",
   "execution_count": 6,
   "metadata": {},
   "outputs": [],
   "source": [
    "# Cavity decay rate\n",
    "kappa_0   = 2*pi*sc.kilo\n",
    "\n",
    "# cavity field coupling rate\n",
    "mu = 0.5"
   ]
  },
  {
   "cell_type": "markdown",
   "metadata": {},
   "source": [
    "#### Coupling constants"
   ]
  },
  {
   "cell_type": "markdown",
   "metadata": {},
   "source": [
    "$$\n",
    "\\tilde{\\Delta} = \\Delta_0 - \\frac{U_0 N}{2\\sqrt{2}}\\quad (\\Delta_0 = \\omega_{drive} - \\omega_{cav})\n",
    "$$\n",
    "$$\n",
    "U_0 = \\frac{g^2_a}{\\Delta_a},\\; \\tilde{g} = \\frac{g}{4\\pi\\hbar},\\; G = \\frac{U_0\\sqrt{N}}{2\\sqrt{2}}\n",
    "$$"
   ]
  },
  {
   "cell_type": "code",
   "execution_count": 7,
   "metadata": {},
   "outputs": [],
   "source": [
    "# U_0\n",
    "U_0 = g_a**2/delta_a\n",
    "\n",
    "# Effective optomechanical coupling constant\n",
    "G_0 = U_0*np.sqrt(Na)/(2*np.sqrt(2))\n"
   ]
  },
  {
   "cell_type": "markdown",
   "metadata": {},
   "source": [
    "#### Drive laser parameters"
   ]
  },
  {
   "cell_type": "code",
   "execution_count": 8,
   "metadata": {},
   "outputs": [],
   "source": [
    "# Drive laser wavelength\n",
    "lambda_l  = 589*sc.nano      \n",
    "\n",
    "# Drive laser frequency\n",
    "omega_l0 = 2*pi*speed_of_light/lambda_l + delta_a\n",
    "\n",
    "# OAM index of the drive LG mode\n",
    "OAM_index = 130"
   ]
  },
  {
   "cell_type": "markdown",
   "metadata": {},
   "source": [
    "#### Atom-atom interaction strength"
   ]
  },
  {
   "cell_type": "code",
   "execution_count": 9,
   "metadata": {},
   "outputs": [],
   "source": [
    "# g_tilde\n",
    "g_tilde_0 = omega_rho_0*a_Na/(2*pi*Radius)\n"
   ]
  },
  {
   "cell_type": "markdown",
   "metadata": {},
   "source": [
    "#### BEC matter wave frequencies"
   ]
  },
  {
   "cell_type": "code",
   "execution_count": 10,
   "metadata": {},
   "outputs": [],
   "source": [
    "def BEC_frequencies(ell, Lp):\n",
    "    global mass, Radius\n",
    "    from scipy import constants as sc\n",
    "    \n",
    "    # Given parameters\n",
    "    Temp = 20*sc.nano           # Temperature in Kelvin (10 nano Kelvin)\n",
    "\n",
    "    # Moment of inertia\n",
    "    I = mass * Radius**2\n",
    "\n",
    "    # Frequency calculation\n",
    "    omega_Lp = (sc.hbar * Lp**2) / (2 * I)\n",
    "    omega_c  = (sc.hbar * (Lp + 2 * ell)**2) / (2 * I)\n",
    "    omega_d  = (sc.hbar * (Lp - 2 * ell)**2) / (2 * I)\n",
    "\n",
    "    # Number of phonons using Bose-Einstein distribution\n",
    "    n_phonons_c = 1 / (np.expm1(sc.hbar * omega_c / (sc.Boltzmann * Temp)))   # expm1 means exp(something) - 1\n",
    "    n_phonons_d = 1 / (np.expm1(sc.hbar * omega_d / (sc.Boltzmann * Temp)))\n",
    "\n",
    "    return omega_Lp, omega_c, omega_d, n_phonons_c,  n_phonons_d\n",
    "\n",
    "omega_Lp0, omega_c0, omega_d0, nth_c, nth_d = BEC_frequencies(OAM_index, Lp)\n",
    "\n",
    "# Other frequencies\n",
    "capital_omega_0 = (omega_c0 + omega_d0 + 4*g_tilde_0*Na)/((omega_c0 + 4*g_tilde_0*Na)*(omega_d0 + 4*g_tilde_0*Na) - 4*g_tilde_0**2*Na**2)\n"
   ]
  },
  {
   "cell_type": "markdown",
   "metadata": {},
   "source": [
    "#### Critical detuning\n",
    "$$\n",
    "\\tilde{\\Delta} = -\\frac{\\sqrt{3}\\kappa}{2}\n",
    "$$"
   ]
  },
  {
   "cell_type": "code",
   "execution_count": 11,
   "metadata": {},
   "outputs": [],
   "source": [
    "critical_detuning_0 = -np.sqrt(3)*kappa_0/2"
   ]
  },
  {
   "cell_type": "markdown",
   "metadata": {},
   "source": [
    "#### Critical Power\n",
    "Critical power here refers to the power of the drive laser at the critical detuning, $\\tilde{\\Delta} = -\\frac{\\sqrt{3}\\kappa}{2}$\n",
    "\n",
    "$$\n",
    "\\mathcal{P}_{\\text{cr}} = \\frac{\\hbar\\omega_l\\kappa^2}{3\\sqrt{3}G^2\\Omega\\mu}\n",
    "$$"
   ]
  },
  {
   "cell_type": "code",
   "execution_count": 12,
   "metadata": {},
   "outputs": [],
   "source": [
    "critical_power = hbar*omega_l0*kappa_0**2/(3*np.sqrt(3)*G_0**2*capital_omega_0*mu)"
   ]
  },
  {
   "cell_type": "markdown",
   "metadata": {},
   "source": [
    "# Parameters normalized w.r.t $\\gamma_0$\n",
    "In this code, $\\gamma_0$ is denoted by $\\kappa$"
   ]
  },
  {
   "cell_type": "code",
   "execution_count": 13,
   "metadata": {},
   "outputs": [],
   "source": [
    "######################################\n",
    "#         Normalized parameters\n",
    "######################################\n",
    "\n",
    "# Cavity decay rate\n",
    "kappa = kappa_0/kappa_0\n",
    "\n",
    "# Damping rate of each condensate\n",
    "gamma_m = gamma_m_0/kappa_0\n",
    "\n",
    "# Harmonic trapping frequencies\n",
    "omega_rho = omega_rho_0/kappa_0\n",
    "omega_z   = omega_z_0/kappa_0\n",
    "\n",
    "# Other parameters\n",
    "G = G_0/kappa_0\n",
    "\n",
    "U = U_0/kappa_0\n",
    "\n",
    "# Matter wave frequencies\n",
    "omega_c = omega_c0/kappa_0\n",
    "omega_d = omega_d0/kappa_0\n",
    "\n",
    "# g_tilde\n",
    "g_tilde = g_tilde_0/kappa_0\n",
    "\n",
    "# critical detuning\n",
    "critical_detuning = critical_detuning_0/kappa_0\n",
    "\n",
    "# small delta\n",
    "small_delta   = omega_c + 4*g_tilde*Na     # small delta = omega_p - omega_l\n",
    "\n",
    "# drive frequencies\n",
    "omega_l = omega_l0/kappa_0\n",
    "\n",
    "# Cavity resonance frequency\n",
    "omega_cav_eff = omega_l + small_delta\n",
    "\n",
    "\n",
    "# Probe frequency\n",
    "omega_p = omega_cav_eff\n",
    "\n",
    "# effective detunings\n",
    "delta_tilde   = -small_delta\n",
    "\n",
    "# omega_bar\n",
    "capital_omega_bar = (omega_c + omega_d + 4*g_tilde*Na)/((omega_c + 4*g_tilde*Na)*(omega_d + 4*g_tilde*Na) - 4*g_tilde**2*Na**2)"
   ]
  },
  {
   "cell_type": "code",
   "execution_count": 14,
   "metadata": {},
   "outputs": [],
   "source": [
    "# Drive laser power\n",
    "power_l  = 7e4*critical_power\n",
    "\n",
    "# Power of signal\n",
    "power_p = power_l*1e-2\n",
    "\n",
    "# Field amplitudes\n",
    "eta_l = np.sqrt(mu*kappa*power_l/(hbar*omega_l))/kappa_0\n",
    "eta_p = eta_l*1e-2\n"
   ]
  },
  {
   "cell_type": "code",
   "execution_count": 15,
   "metadata": {},
   "outputs": [
    {
     "name": "stdout",
     "output_type": "stream",
     "text": [
      "drive power =  8.584293215184512e-10\n",
      "eta_l and eta_p :  450.0547675537846 4.500547675537846\n"
     ]
    }
   ],
   "source": [
    "print(\"drive power = \", power_l)\n",
    "print(\"eta_l and eta_p : \", eta_l, eta_p)"
   ]
  },
  {
   "cell_type": "code",
   "execution_count": 16,
   "metadata": {},
   "outputs": [
    {
     "name": "stdout",
     "output_type": "stream",
     "text": [
      "omega_c =  172.268\n",
      "omega_d =  126.564\n",
      "omega_c-omega_d =  45.704\n"
     ]
    }
   ],
   "source": [
    "print(\"omega_c = \", np.round(omega_c, 3))\n",
    "print(\"omega_d = \", np.round(omega_d, 3))\n",
    "print(\"omega_c-omega_d = \", np.round(omega_c-omega_d,3))\n"
   ]
  },
  {
   "cell_type": "code",
   "execution_count": 17,
   "metadata": {},
   "outputs": [
    {
     "name": "stdout",
     "output_type": "stream",
     "text": [
      "g_prime/gamma_0 =  0.053\n"
     ]
    }
   ],
   "source": [
    "g_prime = 2*g_tilde*Na\n",
    "\n",
    "print(\"g_prime/gamma_0 = \", np.round(g_prime,3))"
   ]
  },
  {
   "cell_type": "code",
   "execution_count": 18,
   "metadata": {},
   "outputs": [
    {
     "name": "stdout",
     "output_type": "stream",
     "text": [
      "number of thermal photons in atomic modes c and d:  2.963996425317431e-180 1.264118188079506e-132\n"
     ]
    }
   ],
   "source": [
    "print(\"number of thermal photons in atomic modes c and d: \", nth_c, nth_d)"
   ]
  },
  {
   "cell_type": "code",
   "execution_count": null,
   "metadata": {},
   "outputs": [],
   "source": []
  }
 ],
 "metadata": {
  "kernelspec": {
   "display_name": "Python 3 (ipykernel)",
   "language": "python",
   "name": "python3"
  },
  "language_info": {
   "codemirror_mode": {
    "name": "ipython",
    "version": 3
   },
   "file_extension": ".py",
   "mimetype": "text/x-python",
   "name": "python",
   "nbconvert_exporter": "python",
   "pygments_lexer": "ipython3",
   "version": "3.9.21"
  }
 },
 "nbformat": 4,
 "nbformat_minor": 4
}
